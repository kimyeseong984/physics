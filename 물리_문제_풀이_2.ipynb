{
  "nbformat": 4,
  "nbformat_minor": 0,
  "metadata": {
    "colab": {
      "provenance": [],
      "authorship_tag": "ABX9TyOJTZ1YmIyV/iw9SzF9VEtq",
      "include_colab_link": true
    },
    "kernelspec": {
      "name": "python3",
      "display_name": "Python 3"
    },
    "language_info": {
      "name": "python"
    }
  },
  "cells": [
    {
      "cell_type": "markdown",
      "metadata": {
        "id": "view-in-github",
        "colab_type": "text"
      },
      "source": [
        "<a href=\"https://colab.research.google.com/github/kimyeseong984/physics/blob/main/%EB%AC%BC%EB%A6%AC_%EB%AC%B8%EC%A0%9C_%ED%92%80%EC%9D%B4_2.ipynb\" target=\"_parent\"><img src=\"https://colab.research.google.com/assets/colab-badge.svg\" alt=\"Open In Colab\"/></a>"
      ]
    },
    {
      "cell_type": "code",
      "execution_count": 1,
      "metadata": {
        "colab": {
          "base_uri": "https://localhost:8080/"
        },
        "id": "lwGF-rFDm67a",
        "outputId": "bc3f543b-e175-44ce-cff3-1492d75a595d"
      },
      "outputs": [
        {
          "output_type": "stream",
          "name": "stdout",
          "text": [
            "1번 tan(θ) = v**2/(g*r)\n",
            "θ = atan(v**2/(g*r))\n",
            "2번 tan(θ) = ac / g\n",
            "θ = 45, tan(θ) = 1\n",
            "ac = 9.8 m/s^2\n"
          ]
        }
      ],
      "source": [
        "from sympy import symbols, Eq, sin, cos, tan, atan, solve, simplify\n",
        "\n",
        "m, g, r, v, T, theta = symbols('m g r v T theta')\n",
        "\n",
        "eq1 = Eq(T * sin(theta), m * v**2 / r)\n",
        "eq2 = Eq(T * cos(theta), m * g)\n",
        "\n",
        "tan_theta = simplify((m * v**2 / r) / (m * g))\n",
        "theta_expr = atan(tan_theta)\n",
        "\n",
        "print(\"1번 tan(θ) =\", tan_theta)\n",
        "print(\"θ =\", theta_expr)\n",
        "\n",
        "m, g, r, v, T, theta, ac = symbols('m g r v T theta ac')\n",
        "\n",
        "g=9.8\n",
        "\n",
        "tan_theta_expr = ac / g\n",
        "\n",
        "eq = Eq(tan_theta_expr, 1)\n",
        "\n",
        "ac_solution = solve(eq, ac)[0]\n",
        "\n",
        "print(\"2번 tan(θ) = ac / g\")\n",
        "print(\"θ = 45, tan(θ) = 1\")\n",
        "print(\"ac =\", round(ac_solution,1),\"m/s^2\")"
      ]
    }
  ]
}