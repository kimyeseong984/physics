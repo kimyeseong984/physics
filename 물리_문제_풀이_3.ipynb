{
  "nbformat": 4,
  "nbformat_minor": 0,
  "metadata": {
    "colab": {
      "provenance": [],
      "authorship_tag": "ABX9TyPTbZBm43B0sTJFAdVABxbN",
      "include_colab_link": true
    },
    "kernelspec": {
      "name": "python3",
      "display_name": "Python 3"
    },
    "language_info": {
      "name": "python"
    }
  },
  "cells": [
    {
      "cell_type": "markdown",
      "metadata": {
        "id": "view-in-github",
        "colab_type": "text"
      },
      "source": [
        "<a href=\"https://colab.research.google.com/github/kimyeseong984/physics/blob/main/%EB%AC%BC%EB%A6%AC_%EB%AC%B8%EC%A0%9C_%ED%92%80%EC%9D%B4_3.ipynb\" target=\"_parent\"><img src=\"https://colab.research.google.com/assets/colab-badge.svg\" alt=\"Open In Colab\"/></a>"
      ]
    },
    {
      "cell_type": "code",
      "execution_count": 3,
      "metadata": {
        "colab": {
          "base_uri": "https://localhost:8080/"
        },
        "id": "p_psYu3bni2l",
        "outputId": "f929d40a-0c52-4128-a33a-2c1af2747ff9"
      },
      "outputs": [
        {
          "output_type": "stream",
          "name": "stdout",
          "text": [
            "접선가속도: 3.05 m/s^2\n",
            "지름가속도: 2.45 m/s^2\n"
          ]
        }
      ],
      "source": [
        "import math\n",
        "\n",
        "v=32\n",
        "t=10.5\n",
        "at=v/t\n",
        "print(\"접선가속도:\", round(at,2),\"m/s^2\")\n",
        "\n",
        "v=35\n",
        "r=500\n",
        "ar=(v*v)/r\n",
        "print(\"지름가속도:\",ar,\"m/s^2\")"
      ]
    }
  ]
}