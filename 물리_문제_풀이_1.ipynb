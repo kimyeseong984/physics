{
  "nbformat": 4,
  "nbformat_minor": 0,
  "metadata": {
    "colab": {
      "provenance": [],
      "authorship_tag": "ABX9TyPmiayxPO5D/6s8PWtU2+GT",
      "include_colab_link": true
    },
    "kernelspec": {
      "name": "python3",
      "display_name": "Python 3"
    },
    "language_info": {
      "name": "python"
    }
  },
  "cells": [
    {
      "cell_type": "markdown",
      "metadata": {
        "id": "view-in-github",
        "colab_type": "text"
      },
      "source": [
        "<a href=\"https://colab.research.google.com/github/kimyeseong984/physics/blob/main/%EB%AC%BC%EB%A6%AC_%EB%AC%B8%EC%A0%9C_%ED%92%80%EC%9D%B4_1.ipynb\" target=\"_parent\"><img src=\"https://colab.research.google.com/assets/colab-badge.svg\" alt=\"Open In Colab\"/></a>"
      ]
    },
    {
      "cell_type": "code",
      "execution_count": 2,
      "metadata": {
        "colab": {
          "base_uri": "https://localhost:8080/"
        },
        "id": "ysH3RIqVasMZ",
        "outputId": "19967017-adbb-4662-a85d-777d61400d70"
      },
      "outputs": [
        {
          "output_type": "stream",
          "name": "stdout",
          "text": [
            "(a) 주기 T = 0.5 s\n",
            "(b) 속력 v = 7.54 m/s\n",
            "(c) 가속도 ac = 94.75 m/s^2\n"
          ]
        }
      ],
      "source": [
        "import math\n",
        "\n",
        "m=0.15\n",
        "r=0.60\n",
        "f=2.0\n",
        "\n",
        "T=1/f\n",
        "v=(2*math.pi*r)/T\n",
        "ac=(v*v)/r\n",
        "\n",
        "print(\"(a) 주기 T =\",T,\"s\")\n",
        "print(\"(b) 속력 v =\", round (v,2),\"m/s\")\n",
        "print(\"(c) 가속도 ac =\", round (ac,2),\"m/s^2\")"
      ]
    }
  ]
}