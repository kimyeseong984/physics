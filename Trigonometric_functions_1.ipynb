{
  "nbformat": 4,
  "nbformat_minor": 0,
  "metadata": {
    "colab": {
      "provenance": [],
      "authorship_tag": "ABX9TyMMv5fCmUW+dUwDCDN35GU1",
      "include_colab_link": true
    },
    "kernelspec": {
      "name": "python3",
      "display_name": "Python 3"
    },
    "language_info": {
      "name": "python"
    }
  },
  "cells": [
    {
      "cell_type": "markdown",
      "metadata": {
        "id": "view-in-github",
        "colab_type": "text"
      },
      "source": [
        "<a href=\"https://colab.research.google.com/github/kimyeseong984/physics/blob/20250312/Trigonometric_functions_1.ipynb\" target=\"_parent\"><img src=\"https://colab.research.google.com/assets/colab-badge.svg\" alt=\"Open In Colab\"/></a>"
      ]
    },
    {
      "cell_type": "code",
      "execution_count": 42,
      "metadata": {
        "id": "kv-LubJHxA70"
      },
      "outputs": [],
      "source": [
        "import math   #  수학 함수를 사용하기 위해서 라이브러리 추가"
      ]
    },
    {
      "cell_type": "code",
      "source": [
        "angle_degree = 30\n",
        "\n",
        "angle_radian = angle_degree * math.pi / 180\n",
        "\n",
        "print(\"angle_radian : \", angle_radian )"
      ],
      "metadata": {
        "colab": {
          "base_uri": "https://localhost:8080/"
        },
        "id": "5hxi48nE0MaL",
        "outputId": "5aa3d9b6-8146-4cb6-c702-59ad3bec658f"
      },
      "execution_count": 43,
      "outputs": [
        {
          "output_type": "stream",
          "name": "stdout",
          "text": [
            "angle_radian :  0.5235987755982988\n"
          ]
        }
      ]
    },
    {
      "cell_type": "code",
      "source": [
        "math.cos(angle_radian)"
      ],
      "metadata": {
        "id": "h6o41i4r10uA",
        "colab": {
          "base_uri": "https://localhost:8080/"
        },
        "outputId": "c659b22a-2a57-4103-f3aa-4939b26c362e"
      },
      "execution_count": 39,
      "outputs": [
        {
          "output_type": "execute_result",
          "data": {
            "text/plain": [
              "0.8660254037844387"
            ]
          },
          "metadata": {},
          "execution_count": 39
        }
      ]
    },
    {
      "cell_type": "code",
      "source": [
        "math.sin(angle_radian)"
      ],
      "metadata": {
        "colab": {
          "base_uri": "https://localhost:8080/"
        },
        "id": "tWlZ2RL_2NSZ",
        "outputId": "2043f7a6-ed67-44df-de74-3f1d0b9854ee"
      },
      "execution_count": 40,
      "outputs": [
        {
          "output_type": "execute_result",
          "data": {
            "text/plain": [
              "0.49999999999999994"
            ]
          },
          "metadata": {},
          "execution_count": 40
        }
      ]
    },
    {
      "cell_type": "code",
      "source": [
        "math.tan(angle_radian)"
      ],
      "metadata": {
        "colab": {
          "base_uri": "https://localhost:8080/"
        },
        "id": "FPMwS3oh2V1p",
        "outputId": "c6b00f2c-3151-463e-a6a5-d857223115cf"
      },
      "execution_count": 41,
      "outputs": [
        {
          "output_type": "execute_result",
          "data": {
            "text/plain": [
              "0.5773502691896257"
            ]
          },
          "metadata": {},
          "execution_count": 41
        }
      ]
    },
    {
      "cell_type": "code",
      "source": [
        "x,y = 1.0, 2.0"
      ],
      "metadata": {
        "id": "e8hU5AiA2jpI"
      },
      "execution_count": 44,
      "outputs": []
    },
    {
      "cell_type": "code",
      "source": [
        "r = math.sqrt(x**2 + y**2)\n",
        "theta_radian = math.atan2(y,x)\n",
        "\n",
        "print(r,theta_radian)"
      ],
      "metadata": {
        "colab": {
          "base_uri": "https://localhost:8080/"
        },
        "id": "d4WTxLT52onN",
        "outputId": "1f6946fd-932b-44de-be8b-60b07e40e3a8"
      },
      "execution_count": 45,
      "outputs": [
        {
          "output_type": "stream",
          "name": "stdout",
          "text": [
            "2.23606797749979 1.1071487177940904\n"
          ]
        }
      ]
    },
    {
      "cell_type": "code",
      "source": [
        "r,angle = 10,30"
      ],
      "metadata": {
        "id": "31ZQrJ7727yR"
      },
      "execution_count": 46,
      "outputs": []
    },
    {
      "cell_type": "code",
      "source": [
        "x = math.cos(math.radians(angle)) * r\n",
        "y = math.sin(math.radians(angle)) * r\n",
        "\n",
        "print(x,y)"
      ],
      "metadata": {
        "colab": {
          "base_uri": "https://localhost:8080/"
        },
        "id": "dLk_W2t73W_9",
        "outputId": "bec76b44-9989-4611-ff92-66de6a0d1e73"
      },
      "execution_count": 47,
      "outputs": [
        {
          "output_type": "stream",
          "name": "stdout",
          "text": [
            "8.660254037844387 4.999999999999999\n"
          ]
        }
      ]
    }
  ]
}